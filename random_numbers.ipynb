{
 "cells": [
  {
   "cell_type": "code",
   "execution_count": 1,
   "id": "3c2161d0-b1d2-4294-9895-e6613273b87f",
   "metadata": {},
   "outputs": [],
   "source": [
    "import random"
   ]
  },
  {
   "cell_type": "code",
   "execution_count": 2,
   "id": "62eea897-642c-47b6-800f-406aa90facf1",
   "metadata": {},
   "outputs": [
    {
     "data": {
      "text/plain": [
       "0.2138453408907679"
      ]
     },
     "execution_count": 2,
     "metadata": {},
     "output_type": "execute_result"
    }
   ],
   "source": [
    "random.random()"
   ]
  },
  {
   "cell_type": "code",
   "execution_count": 3,
   "id": "e6b9c501-ad59-4ae8-a6ed-3cc4592fe0cb",
   "metadata": {},
   "outputs": [
    {
     "data": {
      "text/plain": [
       "6"
      ]
     },
     "execution_count": 3,
     "metadata": {},
     "output_type": "execute_result"
    }
   ],
   "source": [
    "random.randint(-10,10)"
   ]
  },
  {
   "cell_type": "code",
   "execution_count": 4,
   "id": "2342aeae-0edc-4176-b00f-91785458108c",
   "metadata": {},
   "outputs": [
    {
     "data": {
      "text/plain": [
       "5"
      ]
     },
     "execution_count": 4,
     "metadata": {},
     "output_type": "execute_result"
    }
   ],
   "source": [
    "random.randrange(-9,9,2)"
   ]
  },
  {
   "cell_type": "code",
   "execution_count": 5,
   "id": "9c3ce308-e0e5-4855-8355-636defb4aa28",
   "metadata": {},
   "outputs": [
    {
     "data": {
      "text/plain": [
       "8.478313914346035"
      ]
     },
     "execution_count": 5,
     "metadata": {},
     "output_type": "execute_result"
    }
   ],
   "source": [
    "random.uniform(-10,10)"
   ]
  },
  {
   "cell_type": "code",
   "execution_count": 8,
   "id": "404dffa7-a6fe-4d8d-9758-73d129bee8f8",
   "metadata": {},
   "outputs": [
    {
     "data": {
      "text/plain": [
       "-56.32135670031494"
      ]
     },
     "execution_count": 8,
     "metadata": {},
     "output_type": "execute_result"
    }
   ],
   "source": [
    "random.randint(-90, 89)+random.random()"
   ]
  },
  {
   "cell_type": "code",
   "execution_count": 14,
   "id": "909a9b67-5b91-4cba-a5d8-c59f92bb5372",
   "metadata": {},
   "outputs": [],
   "source": [
    "x = 1\n",
    "latitudes = []\n",
    "while x < 11:\n",
    "    random_lat = random.randint(-90, 89) + random.random()\n",
    "    latitudes.append(random_lat)\n",
    "    x += 1"
   ]
  },
  {
   "cell_type": "code",
   "execution_count": 15,
   "id": "5d90c35d-29f0-4725-8e34-0d7e36aa6cb8",
   "metadata": {},
   "outputs": [
    {
     "data": {
      "text/plain": [
       "57"
      ]
     },
     "execution_count": 15,
     "metadata": {},
     "output_type": "execute_result"
    }
   ],
   "source": [
    "random.randrange(-90, 90, step=1)"
   ]
  },
  {
   "cell_type": "code",
   "execution_count": 16,
   "id": "0ebfce7f-d8c6-4304-af1e-05df6edcaf84",
   "metadata": {},
   "outputs": [
    {
     "data": {
      "text/plain": [
       "48"
      ]
     },
     "execution_count": 16,
     "metadata": {},
     "output_type": "execute_result"
    }
   ],
   "source": [
    "random.randrange(-90, 90, step=3)"
   ]
  },
  {
   "cell_type": "code",
   "execution_count": 17,
   "id": "70221987-5869-4d2d-9c0f-d298912e567c",
   "metadata": {},
   "outputs": [
    {
     "data": {
      "text/plain": [
       "-1.0723656337986682"
      ]
     },
     "execution_count": 17,
     "metadata": {},
     "output_type": "execute_result"
    }
   ],
   "source": [
    "random.uniform(-90, 90)"
   ]
  },
  {
   "cell_type": "code",
   "execution_count": 18,
   "id": "d83e1329-e938-490a-ac8c-54876e30db4c",
   "metadata": {},
   "outputs": [],
   "source": [
    "# Import the NumPy module.\n",
    "import numpy as np"
   ]
  },
  {
   "cell_type": "code",
   "execution_count": 19,
   "id": "dba87449-5a1a-43f1-b438-fc8455e2e966",
   "metadata": {},
   "outputs": [
    {
     "data": {
      "text/plain": [
       "-2.2877153752606603"
      ]
     },
     "execution_count": 19,
     "metadata": {},
     "output_type": "execute_result"
    }
   ],
   "source": [
    "np.random.uniform(-90.000, 90.000)"
   ]
  },
  {
   "cell_type": "code",
   "execution_count": 20,
   "id": "34da6cfe-b372-43ae-ba02-5290893a062e",
   "metadata": {},
   "outputs": [
    {
     "data": {
      "text/plain": [
       "-68.21068184996336"
      ]
     },
     "execution_count": 20,
     "metadata": {},
     "output_type": "execute_result"
    }
   ],
   "source": [
    "np.random.uniform(low=-90, high=90)"
   ]
  },
  {
   "cell_type": "code",
   "execution_count": 21,
   "id": "5077ef75-3bb7-47b6-83ca-2f0f2650f31b",
   "metadata": {},
   "outputs": [
    {
     "data": {
      "text/plain": [
       "array([-32.76965488,  53.65940084,  21.21254789, -20.63448023,\n",
       "        37.92374208, -10.9266557 ,  -8.39603702, -76.64679807,\n",
       "        63.9366212 ,   7.20665139, -73.45767138,  69.62659827,\n",
       "       -42.61205424, -54.63653609,  55.96804619,  45.69550103,\n",
       "        12.15846566,  18.77486862,  56.63439295, -32.79591011,\n",
       "        30.48990176, -19.24663815, -80.8906927 ,  80.69721049,\n",
       "       -78.96284475, -74.08279947,  83.0179801 , -34.63017794,\n",
       "         9.30731932,  66.58268323, -43.33255814,  12.49706489,\n",
       "        -6.33299378,   1.55491143,   0.60922957,  37.34464536,\n",
       "        44.47673665,  10.85027301,  -5.64169504, -26.23046743,\n",
       "       -74.2776159 ,  23.8841006 ,  75.23854626,  -9.98851032,\n",
       "       -50.29359351,  53.02969647,  71.18370279,  -0.62498947,\n",
       "        77.89026194,  62.40581723])"
      ]
     },
     "execution_count": 21,
     "metadata": {},
     "output_type": "execute_result"
    }
   ],
   "source": [
    "np.random.uniform(-90.000, 90.000, size=50)"
   ]
  },
  {
   "cell_type": "code",
   "execution_count": 22,
   "id": "0d2fc611-40f2-4424-8bcc-6ee2333adeb1",
   "metadata": {},
   "outputs": [],
   "source": [
    "# Import timeit.\n",
    "import timeit"
   ]
  },
  {
   "cell_type": "code",
   "execution_count": 23,
   "id": "96ee648e-b06a-4518-8c91-169c269b84e9",
   "metadata": {},
   "outputs": [
    {
     "name": "stdout",
     "output_type": "stream",
     "text": [
      "11.5 µs ± 235 ns per loop (mean ± std. dev. of 7 runs, 100,000 loops each)\n"
     ]
    }
   ],
   "source": [
    "%timeit np.random.uniform(-90.000, 90.000, size=1500)"
   ]
  },
  {
   "cell_type": "code",
   "execution_count": 25,
   "id": "8349cd5f-cdd2-4358-a95a-0da3cbd61bda",
   "metadata": {},
   "outputs": [
    {
     "data": {
      "text/plain": [
       "array([  0.2703848 , -83.52983355,  19.80154592, ...,  -7.30793831,\n",
       "        11.29068367, -87.03729285])"
      ]
     },
     "execution_count": 25,
     "metadata": {},
     "output_type": "execute_result"
    }
   ],
   "source": [
    "np.random.uniform(-90.000, 90.000, size=1500)"
   ]
  },
  {
   "cell_type": "code",
   "execution_count": 26,
   "id": "14cc9644-e2e0-4845-a6ed-9fdc16fc4edb",
   "metadata": {},
   "outputs": [
    {
     "name": "stdout",
     "output_type": "stream",
     "text": [
      "11.9 µs ± 345 ns per loop (mean ± std. dev. of 7 runs, 100,000 loops each)\n"
     ]
    }
   ],
   "source": [
    "%timeit np.random.uniform(-90.000, 90.000, size=1500)"
   ]
  },
  {
   "cell_type": "code",
   "execution_count": 27,
   "id": "d2ec2671-4700-466e-972f-fd4ec6020617",
   "metadata": {},
   "outputs": [
    {
     "name": "stdout",
     "output_type": "stream",
     "text": [
      "1.09 ms ± 36.5 µs per loop (mean ± std. dev. of 7 runs, 1,000 loops each)\n"
     ]
    }
   ],
   "source": [
    "def latitudes(size):\n",
    "    latitudes = []\n",
    "    x = 0\n",
    "    while x < (size):\n",
    "        random_lat = random.randint(-90, 90) + random.random()\n",
    "        latitudes.append(random_lat)\n",
    "        x += 1\n",
    "    return latitudes\n",
    "# Call the function with 1500.\n",
    "%timeit latitudes(1500)"
   ]
  },
  {
   "cell_type": "code",
   "execution_count": 28,
   "id": "074dafa3-4aae-429e-b896-e36cd2a69d00",
   "metadata": {},
   "outputs": [
    {
     "data": {
      "text/plain": [
       "array([-37.52884112,  14.31033389, -47.19794806, ...,  49.65280294,\n",
       "       -79.01407881, -59.67050437])"
      ]
     },
     "execution_count": 28,
     "metadata": {},
     "output_type": "execute_result"
    }
   ],
   "source": [
    "np.random.uniform(-90.000, 90.000, size=1500)"
   ]
  },
  {
   "cell_type": "code",
   "execution_count": null,
   "id": "8be28ea5-6691-4d94-a772-1db306f153b2",
   "metadata": {},
   "outputs": [],
   "source": []
  }
 ],
 "metadata": {
  "kernelspec": {
   "display_name": "Python 3 (ipykernel)",
   "language": "python",
   "name": "python3"
  },
  "language_info": {
   "codemirror_mode": {
    "name": "ipython",
    "version": 3
   },
   "file_extension": ".py",
   "mimetype": "text/x-python",
   "name": "python",
   "nbconvert_exporter": "python",
   "pygments_lexer": "ipython3",
   "version": "3.9.12"
  }
 },
 "nbformat": 4,
 "nbformat_minor": 5
}
